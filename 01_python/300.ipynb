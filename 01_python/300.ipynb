{
 "cells": [
  {
   "cell_type": "code",
   "execution_count": 1,
   "id": "9a59560e",
   "metadata": {},
   "outputs": [
    {
     "name": "stdout",
     "output_type": "stream",
     "text": [
      "Hello World\n"
     ]
    }
   ],
   "source": [
    "print('Hello World')"
   ]
  },
  {
   "cell_type": "code",
   "execution_count": 1,
   "id": "8c10e8df",
   "metadata": {},
   "outputs": [
    {
     "name": "stdout",
     "output_type": "stream",
     "text": [
      "Mary's cosmtetics\n"
     ]
    }
   ],
   "source": [
    "print('Mary\\'s cosmtetics')"
   ]
  },
  {
   "cell_type": "code",
   "execution_count": 3,
   "id": "e88ec19f",
   "metadata": {},
   "outputs": [],
   "source": [
    "# 123\n"
   ]
  },
  {
   "cell_type": "code",
   "execution_count": 4,
   "id": "8e418556",
   "metadata": {},
   "outputs": [],
   "source": [
    "# 124"
   ]
  },
  {
   "cell_type": "code",
   "execution_count": 1,
   "id": "5bb12e26",
   "metadata": {},
   "outputs": [],
   "source": [
    "# 125"
   ]
  },
  {
   "cell_type": "code",
   "execution_count": 20,
   "id": "1200a562",
   "metadata": {},
   "outputs": [
    {
     "name": "stdout",
     "output_type": "stream",
     "text": [
      "2002\n",
      "2006\n",
      "-----\n",
      "2010\n",
      "2014\n",
      "2018\n",
      "-----\n",
      "2022\n",
      "2026\n",
      "-----\n",
      "2030\n",
      "2034\n",
      "2038\n",
      "-----\n",
      "2042\n",
      "2046\n",
      "-----\n",
      "2050\n"
     ]
    }
   ],
   "source": [
    "n = 0\n",
    "\n",
    "for i in range(2002, 2051, 4):\n",
    "    x = i // 10 % 10\n",
    "    \n",
    "    if x > n:\n",
    "        print('-----')\n",
    "        n += 1\n",
    "    \n",
    "    print(i)"
   ]
  },
  {
   "cell_type": "code",
   "execution_count": null,
   "id": "356c6eb7",
   "metadata": {},
   "outputs": [],
   "source": []
  }
 ],
 "metadata": {
  "kernelspec": {
   "display_name": "Python 3 (ipykernel)",
   "language": "python",
   "name": "python3"
  },
  "language_info": {
   "codemirror_mode": {
    "name": "ipython",
    "version": 3
   },
   "file_extension": ".py",
   "mimetype": "text/x-python",
   "name": "python",
   "nbconvert_exporter": "python",
   "pygments_lexer": "ipython3",
   "version": "3.10.10"
  }
 },
 "nbformat": 4,
 "nbformat_minor": 5
}
